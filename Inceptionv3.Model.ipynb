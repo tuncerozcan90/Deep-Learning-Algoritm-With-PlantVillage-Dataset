{
 "cells": [
  {
   "cell_type": "code",
   "execution_count": 1,
   "metadata": {
    "_cell_guid": "b1076dfc-b9ad-4769-8c92-a6c4dae69d19",
    "_uuid": "8f2839f25d086af736a60e9eeb907d3b93b6e0e5"
   },
   "outputs": [],
   "source": [
    "import pandas as pd\n",
    "import keras \n",
    "import numpy as np\n",
    "import tensorflow as tf\n",
    "from tensorflow.keras.layers import Dense,BatchNormalization,Dropout,Flatten\n",
    "from tensorflow.keras.models import Sequential\n",
    "import matplotlib.pyplot as plt\n",
    "import seaborn as sns\n",
    "from pathlib import Path\n",
    "import cv2\n",
    "from tensorflow.keras.applications.inception_v3 import InceptionV3\n",
    "from tensorflow.keras.optimizers import Adam\n",
    "import os\n",
    "from tensorflow.keras.preprocessing.image import ImageDataGenerator\n",
    "from sklearn.model_selection import train_test_split"
   ]
  },
  {
   "cell_type": "code",
   "execution_count": 2,
   "metadata": {},
   "outputs": [
    {
     "data": {
      "text/plain": [
       "'/device:GPU:0'"
      ]
     },
     "execution_count": 2,
     "metadata": {},
     "output_type": "execute_result"
    }
   ],
   "source": [
    "tf.test.gpu_device_name()"
   ]
  },
  {
   "cell_type": "code",
   "execution_count": 3,
   "metadata": {},
   "outputs": [],
   "source": [
    "path_ref = \"PlantVillage\"\n",
    "img_list = list(Path(path_ref).glob(\"*/*.JPG\"))"
   ]
  },
  {
   "cell_type": "code",
   "execution_count": 4,
   "metadata": {},
   "outputs": [],
   "source": [
    "base_model = InceptionV3(include_top=False,weights=\"imagenet\",input_shape=(256,256,3))"
   ]
  },
  {
   "cell_type": "code",
   "execution_count": 5,
   "metadata": {},
   "outputs": [],
   "source": [
    "for layer in base_model.layers:\n",
    "    layer.trainable = False"
   ]
  },
  {
   "cell_type": "code",
   "execution_count": 6,
   "metadata": {},
   "outputs": [],
   "source": [
    "model = Sequential([\n",
    "    base_model,\n",
    "    Flatten(),\n",
    "    Dense(512,activation='relu'),\n",
    "    Dropout(0.2),\n",
    "    Dense(15,activation='softmax')    \n",
    "])"
   ]
  },
  {
   "cell_type": "code",
   "execution_count": 7,
   "metadata": {},
   "outputs": [
    {
     "name": "stdout",
     "output_type": "stream",
     "text": [
      "Model: \"sequential\"\n",
      "_________________________________________________________________\n",
      "Layer (type)                 Output Shape              Param #   \n",
      "=================================================================\n",
      "inception_v3 (Functional)    (None, 6, 6, 2048)        21802784  \n",
      "_________________________________________________________________\n",
      "flatten (Flatten)            (None, 73728)             0         \n",
      "_________________________________________________________________\n",
      "dense (Dense)                (None, 512)               37749248  \n",
      "_________________________________________________________________\n",
      "dropout (Dropout)            (None, 512)               0         \n",
      "_________________________________________________________________\n",
      "dense_1 (Dense)              (None, 15)                7695      \n",
      "=================================================================\n",
      "Total params: 59,559,727\n",
      "Trainable params: 37,756,943\n",
      "Non-trainable params: 21,802,784\n",
      "_________________________________________________________________\n"
     ]
    }
   ],
   "source": [
    "model.summary()"
   ]
  },
  {
   "cell_type": "code",
   "execution_count": 8,
   "metadata": {},
   "outputs": [],
   "source": [
    "model.compile(loss=\"categorical_crossentropy\",optimizer=Adam(learning_rate=0.001),metrics=['accuracy'])"
   ]
  },
  {
   "cell_type": "code",
   "execution_count": 9,
   "metadata": {},
   "outputs": [
    {
     "data": {
      "text/html": [
       "<div>\n",
       "<style scoped>\n",
       "    .dataframe tbody tr th:only-of-type {\n",
       "        vertical-align: middle;\n",
       "    }\n",
       "\n",
       "    .dataframe tbody tr th {\n",
       "        vertical-align: top;\n",
       "    }\n",
       "\n",
       "    .dataframe thead th {\n",
       "        text-align: right;\n",
       "    }\n",
       "</style>\n",
       "<table border=\"1\" class=\"dataframe\">\n",
       "  <thead>\n",
       "    <tr style=\"text-align: right;\">\n",
       "      <th></th>\n",
       "      <th>filename</th>\n",
       "      <th>label</th>\n",
       "    </tr>\n",
       "  </thead>\n",
       "  <tbody>\n",
       "    <tr>\n",
       "      <th>0</th>\n",
       "      <td>PlantVillage\\Pepper__bell___Bacterial_spot\\002...</td>\n",
       "      <td>Pepper__bell___Bacterial_spot</td>\n",
       "    </tr>\n",
       "    <tr>\n",
       "      <th>1</th>\n",
       "      <td>PlantVillage\\Pepper__bell___Bacterial_spot\\006...</td>\n",
       "      <td>Pepper__bell___Bacterial_spot</td>\n",
       "    </tr>\n",
       "    <tr>\n",
       "      <th>2</th>\n",
       "      <td>PlantVillage\\Pepper__bell___Bacterial_spot\\00f...</td>\n",
       "      <td>Pepper__bell___Bacterial_spot</td>\n",
       "    </tr>\n",
       "    <tr>\n",
       "      <th>3</th>\n",
       "      <td>PlantVillage\\Pepper__bell___Bacterial_spot\\016...</td>\n",
       "      <td>Pepper__bell___Bacterial_spot</td>\n",
       "    </tr>\n",
       "    <tr>\n",
       "      <th>4</th>\n",
       "      <td>PlantVillage\\Pepper__bell___Bacterial_spot\\016...</td>\n",
       "      <td>Pepper__bell___Bacterial_spot</td>\n",
       "    </tr>\n",
       "  </tbody>\n",
       "</table>\n",
       "</div>"
      ],
      "text/plain": [
       "                                            filename  \\\n",
       "0  PlantVillage\\Pepper__bell___Bacterial_spot\\002...   \n",
       "1  PlantVillage\\Pepper__bell___Bacterial_spot\\006...   \n",
       "2  PlantVillage\\Pepper__bell___Bacterial_spot\\00f...   \n",
       "3  PlantVillage\\Pepper__bell___Bacterial_spot\\016...   \n",
       "4  PlantVillage\\Pepper__bell___Bacterial_spot\\016...   \n",
       "\n",
       "                           label  \n",
       "0  Pepper__bell___Bacterial_spot  \n",
       "1  Pepper__bell___Bacterial_spot  \n",
       "2  Pepper__bell___Bacterial_spot  \n",
       "3  Pepper__bell___Bacterial_spot  \n",
       "4  Pepper__bell___Bacterial_spot  "
      ]
     },
     "execution_count": 9,
     "metadata": {},
     "output_type": "execute_result"
    }
   ],
   "source": [
    "df = pd.DataFrame()\n",
    "\n",
    "for folder in os.listdir(path_ref):\n",
    "    folder_path = os.path.join(path_ref, folder)\n",
    "    if os.path.isdir(folder_path):\n",
    "        for file in os.listdir(folder_path):\n",
    "            file_path = os.path.join(folder_path, file)\n",
    "            if os.path.isfile(file_path):\n",
    "                df = df._append({'filename': file_path, 'label': folder}, ignore_index=True)\n",
    "\n",
    "df.head()"
   ]
  },
  {
   "cell_type": "code",
   "execution_count": 10,
   "metadata": {},
   "outputs": [
    {
     "data": {
      "text/html": [
       "<div>\n",
       "<style scoped>\n",
       "    .dataframe tbody tr th:only-of-type {\n",
       "        vertical-align: middle;\n",
       "    }\n",
       "\n",
       "    .dataframe tbody tr th {\n",
       "        vertical-align: top;\n",
       "    }\n",
       "\n",
       "    .dataframe thead th {\n",
       "        text-align: right;\n",
       "    }\n",
       "</style>\n",
       "<table border=\"1\" class=\"dataframe\">\n",
       "  <thead>\n",
       "    <tr style=\"text-align: right;\">\n",
       "      <th></th>\n",
       "      <th>filename</th>\n",
       "      <th>label</th>\n",
       "    </tr>\n",
       "  </thead>\n",
       "  <tbody>\n",
       "    <tr>\n",
       "      <th>12173</th>\n",
       "      <td>PlantVillage\\Tomato_Leaf_Mold\\f7826d86-2eb1-40...</td>\n",
       "      <td>Tomato_Leaf_Mold</td>\n",
       "    </tr>\n",
       "    <tr>\n",
       "      <th>17544</th>\n",
       "      <td>PlantVillage\\Tomato__Tomato_YellowLeaf__Curl_V...</td>\n",
       "      <td>Tomato__Tomato_YellowLeaf__Curl_Virus</td>\n",
       "    </tr>\n",
       "    <tr>\n",
       "      <th>8589</th>\n",
       "      <td>PlantVillage\\Tomato_healthy\\83781ea3-eaed-467a...</td>\n",
       "      <td>Tomato_healthy</td>\n",
       "    </tr>\n",
       "    <tr>\n",
       "      <th>18697</th>\n",
       "      <td>PlantVillage\\Tomato__Tomato_YellowLeaf__Curl_V...</td>\n",
       "      <td>Tomato__Tomato_YellowLeaf__Curl_Virus</td>\n",
       "    </tr>\n",
       "    <tr>\n",
       "      <th>17670</th>\n",
       "      <td>PlantVillage\\Tomato__Tomato_YellowLeaf__Curl_V...</td>\n",
       "      <td>Tomato__Tomato_YellowLeaf__Curl_Virus</td>\n",
       "    </tr>\n",
       "    <tr>\n",
       "      <th>16104</th>\n",
       "      <td>PlantVillage\\Tomato__Target_Spot\\5a084ee2-7a6d...</td>\n",
       "      <td>Tomato__Target_Spot</td>\n",
       "    </tr>\n",
       "    <tr>\n",
       "      <th>9728</th>\n",
       "      <td>PlantVillage\\Tomato_Late_blight\\30f95811-1559-...</td>\n",
       "      <td>Tomato_Late_blight</td>\n",
       "    </tr>\n",
       "    <tr>\n",
       "      <th>6397</th>\n",
       "      <td>PlantVillage\\Tomato_Bacterial_spot\\d8e40874-f1...</td>\n",
       "      <td>Tomato_Bacterial_spot</td>\n",
       "    </tr>\n",
       "    <tr>\n",
       "      <th>6440</th>\n",
       "      <td>PlantVillage\\Tomato_Bacterial_spot\\de2b6ef8-f5...</td>\n",
       "      <td>Tomato_Bacterial_spot</td>\n",
       "    </tr>\n",
       "    <tr>\n",
       "      <th>4929</th>\n",
       "      <td>PlantVillage\\Tomato_Bacterial_spot\\25a94cb1-a3...</td>\n",
       "      <td>Tomato_Bacterial_spot</td>\n",
       "    </tr>\n",
       "  </tbody>\n",
       "</table>\n",
       "</div>"
      ],
      "text/plain": [
       "                                                filename  \\\n",
       "12173  PlantVillage\\Tomato_Leaf_Mold\\f7826d86-2eb1-40...   \n",
       "17544  PlantVillage\\Tomato__Tomato_YellowLeaf__Curl_V...   \n",
       "8589   PlantVillage\\Tomato_healthy\\83781ea3-eaed-467a...   \n",
       "18697  PlantVillage\\Tomato__Tomato_YellowLeaf__Curl_V...   \n",
       "17670  PlantVillage\\Tomato__Tomato_YellowLeaf__Curl_V...   \n",
       "16104  PlantVillage\\Tomato__Target_Spot\\5a084ee2-7a6d...   \n",
       "9728   PlantVillage\\Tomato_Late_blight\\30f95811-1559-...   \n",
       "6397   PlantVillage\\Tomato_Bacterial_spot\\d8e40874-f1...   \n",
       "6440   PlantVillage\\Tomato_Bacterial_spot\\de2b6ef8-f5...   \n",
       "4929   PlantVillage\\Tomato_Bacterial_spot\\25a94cb1-a3...   \n",
       "\n",
       "                                       label  \n",
       "12173                       Tomato_Leaf_Mold  \n",
       "17544  Tomato__Tomato_YellowLeaf__Curl_Virus  \n",
       "8589                          Tomato_healthy  \n",
       "18697  Tomato__Tomato_YellowLeaf__Curl_Virus  \n",
       "17670  Tomato__Tomato_YellowLeaf__Curl_Virus  \n",
       "16104                    Tomato__Target_Spot  \n",
       "9728                      Tomato_Late_blight  \n",
       "6397                   Tomato_Bacterial_spot  \n",
       "6440                   Tomato_Bacterial_spot  \n",
       "4929                   Tomato_Bacterial_spot  "
      ]
     },
     "execution_count": 10,
     "metadata": {},
     "output_type": "execute_result"
    }
   ],
   "source": [
    "df.sample(10)"
   ]
  },
  {
   "cell_type": "code",
   "execution_count": 11,
   "metadata": {},
   "outputs": [],
   "source": [
    "train,test = train_test_split(df,test_size=0.3,random_state=42)"
   ]
  },
  {
   "cell_type": "code",
   "execution_count": 12,
   "metadata": {},
   "outputs": [],
   "source": [
    "datagen = ImageDataGenerator(rescale=1./255,horizontal_flip=True,shear_range=0.3)"
   ]
  },
  {
   "cell_type": "code",
   "execution_count": 13,
   "metadata": {},
   "outputs": [
    {
     "name": "stderr",
     "output_type": "stream",
     "text": [
      "C:\\Users\\tunce\\anaconda3\\envs\\Gpu\\lib\\site-packages\\keras_preprocessing\\image\\dataframe_iterator.py:279: UserWarning: Found 1 invalid image filename(s) in x_col=\"filename\". These filename(s) will be ignored.\n",
      "  warnings.warn(\n"
     ]
    },
    {
     "name": "stdout",
     "output_type": "stream",
     "text": [
      "Found 14446 validated image filenames belonging to 15 classes.\n",
      "Found 6192 validated image filenames belonging to 15 classes.\n"
     ]
    }
   ],
   "source": [
    "train_generator = datagen.flow_from_dataframe(train,x_col='filename',y_col='label',target_size=(256,256),batch_size=32,class_mode='categorical',)\n",
    "val_generator = datagen.flow_from_dataframe(test,x_col='filename',y_col='label',target_size=(256,256),batch_size=32,class_mode='categorical')"
   ]
  },
  {
   "cell_type": "code",
   "execution_count": 14,
   "metadata": {},
   "outputs": [],
   "source": [
    "from tensorflow.keras.callbacks import EarlyStopping\n",
    "es = EarlyStopping(patience=5,monitor='loss',restore_best_weights=True)"
   ]
  },
  {
   "cell_type": "code",
   "execution_count": 15,
   "metadata": {},
   "outputs": [
    {
     "name": "stdout",
     "output_type": "stream",
     "text": [
      "Epoch 1/50\n",
      "452/452 [==============================] - 269s 564ms/step - loss: 2.8080 - accuracy: 0.6193 - val_loss: 0.6622 - val_accuracy: 0.7778\n",
      "Epoch 2/50\n",
      "452/452 [==============================] - 245s 541ms/step - loss: 0.7533 - accuracy: 0.7487 - val_loss: 0.5801 - val_accuracy: 0.8098\n",
      "Epoch 3/50\n",
      "452/452 [==============================] - 245s 542ms/step - loss: 0.6242 - accuracy: 0.7903 - val_loss: 0.5117 - val_accuracy: 0.8351\n",
      "Epoch 4/50\n",
      "452/452 [==============================] - 245s 543ms/step - loss: 0.5262 - accuracy: 0.8187 - val_loss: 0.4179 - val_accuracy: 0.8690\n",
      "Epoch 5/50\n",
      "452/452 [==============================] - 245s 542ms/step - loss: 0.4686 - accuracy: 0.8404 - val_loss: 0.4332 - val_accuracy: 0.8626\n",
      "Epoch 6/50\n",
      "452/452 [==============================] - 244s 539ms/step - loss: 0.4529 - accuracy: 0.8420 - val_loss: 0.4179 - val_accuracy: 0.8668\n",
      "Epoch 7/50\n",
      "452/452 [==============================] - 249s 550ms/step - loss: 0.4005 - accuracy: 0.8604 - val_loss: 0.4157 - val_accuracy: 0.8744\n",
      "Epoch 8/50\n",
      "452/452 [==============================] - 246s 544ms/step - loss: 0.3708 - accuracy: 0.8730 - val_loss: 0.3968 - val_accuracy: 0.8808\n",
      "Epoch 9/50\n",
      "452/452 [==============================] - 245s 543ms/step - loss: 0.3484 - accuracy: 0.8778 - val_loss: 0.4049 - val_accuracy: 0.8784\n",
      "Epoch 10/50\n",
      "452/452 [==============================] - 243s 537ms/step - loss: 0.3284 - accuracy: 0.8838 - val_loss: 0.3860 - val_accuracy: 0.8824\n",
      "Epoch 11/50\n",
      "452/452 [==============================] - 243s 538ms/step - loss: 0.3335 - accuracy: 0.8869 - val_loss: 0.4830 - val_accuracy: 0.8693\n",
      "Epoch 12/50\n",
      "452/452 [==============================] - 243s 537ms/step - loss: 0.3135 - accuracy: 0.8880 - val_loss: 0.3757 - val_accuracy: 0.8962\n",
      "Epoch 13/50\n",
      "452/452 [==============================] - 243s 537ms/step - loss: 0.2868 - accuracy: 0.8993 - val_loss: 0.4271 - val_accuracy: 0.8866\n",
      "Epoch 14/50\n",
      "452/452 [==============================] - 243s 537ms/step - loss: 0.3108 - accuracy: 0.8919 - val_loss: 0.4461 - val_accuracy: 0.8860\n",
      "Epoch 15/50\n",
      "452/452 [==============================] - 244s 539ms/step - loss: 0.2864 - accuracy: 0.9024 - val_loss: 0.4683 - val_accuracy: 0.8800\n",
      "Epoch 16/50\n",
      "452/452 [==============================] - 244s 539ms/step - loss: 0.2785 - accuracy: 0.9040 - val_loss: 0.4304 - val_accuracy: 0.8842\n",
      "Epoch 17/50\n",
      "452/452 [==============================] - 244s 539ms/step - loss: 0.2484 - accuracy: 0.9147 - val_loss: 0.3906 - val_accuracy: 0.8915\n",
      "Epoch 18/50\n",
      "452/452 [==============================] - 243s 537ms/step - loss: 0.2666 - accuracy: 0.9076 - val_loss: 0.4120 - val_accuracy: 0.8845\n",
      "Epoch 19/50\n",
      "452/452 [==============================] - 242s 536ms/step - loss: 0.2450 - accuracy: 0.9153 - val_loss: 0.4371 - val_accuracy: 0.8787\n",
      "Epoch 20/50\n",
      "452/452 [==============================] - 243s 537ms/step - loss: 0.2560 - accuracy: 0.9102 - val_loss: 0.4777 - val_accuracy: 0.8695\n",
      "Epoch 21/50\n",
      "452/452 [==============================] - 243s 538ms/step - loss: 0.2387 - accuracy: 0.9160 - val_loss: 0.4117 - val_accuracy: 0.8855\n",
      "Epoch 22/50\n",
      "452/452 [==============================] - 248s 548ms/step - loss: 0.2108 - accuracy: 0.9293 - val_loss: 0.4783 - val_accuracy: 0.8840\n",
      "Epoch 23/50\n",
      "452/452 [==============================] - 243s 538ms/step - loss: 0.2415 - accuracy: 0.9171 - val_loss: 0.5483 - val_accuracy: 0.8774\n",
      "Epoch 24/50\n",
      "452/452 [==============================] - 245s 543ms/step - loss: 0.2218 - accuracy: 0.9236 - val_loss: 0.3834 - val_accuracy: 0.8944\n",
      "Epoch 25/50\n",
      "452/452 [==============================] - 249s 551ms/step - loss: 0.2212 - accuracy: 0.9241 - val_loss: 0.4883 - val_accuracy: 0.8779\n",
      "Epoch 26/50\n",
      "452/452 [==============================] - 244s 539ms/step - loss: 0.2099 - accuracy: 0.9277 - val_loss: 0.5140 - val_accuracy: 0.8803\n",
      "Epoch 27/50\n",
      "452/452 [==============================] - 245s 542ms/step - loss: 0.2133 - accuracy: 0.9292 - val_loss: 0.4795 - val_accuracy: 0.8837\n",
      "Epoch 28/50\n",
      "452/452 [==============================] - 245s 543ms/step - loss: 0.1935 - accuracy: 0.9311 - val_loss: 0.4540 - val_accuracy: 0.8923\n",
      "Epoch 29/50\n",
      "452/452 [==============================] - 255s 564ms/step - loss: 0.2020 - accuracy: 0.9320 - val_loss: 0.4790 - val_accuracy: 0.8929\n",
      "Epoch 30/50\n",
      "452/452 [==============================] - 243s 537ms/step - loss: 0.1949 - accuracy: 0.9360 - val_loss: 0.5662 - val_accuracy: 0.8840\n",
      "Epoch 31/50\n",
      "452/452 [==============================] - 243s 538ms/step - loss: 0.2115 - accuracy: 0.9284 - val_loss: 0.5177 - val_accuracy: 0.8868\n",
      "Epoch 32/50\n",
      "452/452 [==============================] - 246s 545ms/step - loss: 0.2020 - accuracy: 0.9306 - val_loss: 0.5440 - val_accuracy: 0.8852\n",
      "Epoch 33/50\n",
      "452/452 [==============================] - 247s 547ms/step - loss: 0.1848 - accuracy: 0.9380 - val_loss: 0.4709 - val_accuracy: 0.8892\n",
      "Epoch 34/50\n",
      "452/452 [==============================] - 246s 544ms/step - loss: 0.2003 - accuracy: 0.9310 - val_loss: 0.5030 - val_accuracy: 0.8895\n",
      "Epoch 35/50\n",
      "452/452 [==============================] - 251s 555ms/step - loss: 0.1822 - accuracy: 0.9403 - val_loss: 0.4979 - val_accuracy: 0.8923\n",
      "Epoch 36/50\n",
      "452/452 [==============================] - 249s 551ms/step - loss: 0.1788 - accuracy: 0.9392 - val_loss: 0.6509 - val_accuracy: 0.8836\n",
      "Epoch 37/50\n",
      "452/452 [==============================] - 247s 546ms/step - loss: 0.1968 - accuracy: 0.9344 - val_loss: 0.4992 - val_accuracy: 0.8907\n",
      "Epoch 38/50\n",
      "452/452 [==============================] - 244s 540ms/step - loss: 0.1710 - accuracy: 0.9437 - val_loss: 0.5133 - val_accuracy: 0.9010\n",
      "Epoch 39/50\n",
      "452/452 [==============================] - 246s 544ms/step - loss: 0.1772 - accuracy: 0.9398 - val_loss: 0.5033 - val_accuracy: 0.8963\n",
      "Epoch 40/50\n",
      "452/452 [==============================] - 243s 538ms/step - loss: 0.1627 - accuracy: 0.9465 - val_loss: 0.5235 - val_accuracy: 0.8866\n",
      "Epoch 41/50\n",
      "452/452 [==============================] - 244s 540ms/step - loss: 0.1842 - accuracy: 0.9394 - val_loss: 0.4952 - val_accuracy: 0.9037\n",
      "Epoch 42/50\n",
      "452/452 [==============================] - 246s 544ms/step - loss: 0.1983 - accuracy: 0.9348 - val_loss: 0.6236 - val_accuracy: 0.8811\n",
      "Epoch 43/50\n",
      "452/452 [==============================] - 246s 543ms/step - loss: 0.1556 - accuracy: 0.9462 - val_loss: 0.4874 - val_accuracy: 0.9041\n",
      "Epoch 44/50\n",
      "452/452 [==============================] - 248s 549ms/step - loss: 0.1711 - accuracy: 0.9445 - val_loss: 0.5630 - val_accuracy: 0.8965\n",
      "Epoch 45/50\n",
      "452/452 [==============================] - 247s 546ms/step - loss: 0.1650 - accuracy: 0.9452 - val_loss: 0.5255 - val_accuracy: 0.8934\n",
      "Epoch 46/50\n",
      "452/452 [==============================] - 260s 574ms/step - loss: 0.1728 - accuracy: 0.9410 - val_loss: 0.5326 - val_accuracy: 0.8936\n",
      "Epoch 47/50\n",
      "452/452 [==============================] - 262s 581ms/step - loss: 0.1679 - accuracy: 0.9447 - val_loss: 0.4989 - val_accuracy: 0.8920\n",
      "Epoch 48/50\n",
      "452/452 [==============================] - 248s 548ms/step - loss: 0.1620 - accuracy: 0.9455 - val_loss: 0.5589 - val_accuracy: 0.8892\n"
     ]
    }
   ],
   "source": [
    "history = model.fit(train_generator,validation_data=val_generator,epochs=50,callbacks=[es])"
   ]
  },
  {
   "cell_type": "code",
   "execution_count": 16,
   "metadata": {},
   "outputs": [
    {
     "name": "stdout",
     "output_type": "stream",
     "text": [
      "INFO:tensorflow:Assets written to: Inceptionv3.Model\\assets\n"
     ]
    }
   ],
   "source": [
    "tf.keras.models.save_model(model, \"Inceptionv3.Model\")"
   ]
  },
  {
   "cell_type": "code",
   "execution_count": 21,
   "metadata": {},
   "outputs": [
    {
     "name": "stdout",
     "output_type": "stream",
     "text": [
      "194/194 [==============================] - 74s 382ms/step - loss: 0.4885 - accuracy: 0.9058\n"
     ]
    }
   ],
   "source": [
    "scores = model.evaluate(val_generator)"
   ]
  },
  {
   "cell_type": "code",
   "execution_count": 22,
   "metadata": {},
   "outputs": [
    {
     "data": {
      "text/plain": [
       "[0.4885329604148865, 0.9058462381362915]"
      ]
     },
     "execution_count": 22,
     "metadata": {},
     "output_type": "execute_result"
    }
   ],
   "source": [
    "scores"
   ]
  },
  {
   "cell_type": "code",
   "execution_count": 23,
   "metadata": {},
   "outputs": [
    {
     "data": {
      "text/plain": [
       "<keras.callbacks.History at 0x264ed3ce130>"
      ]
     },
     "execution_count": 23,
     "metadata": {},
     "output_type": "execute_result"
    }
   ],
   "source": [
    "history"
   ]
  },
  {
   "cell_type": "code",
   "execution_count": 24,
   "metadata": {},
   "outputs": [
    {
     "data": {
      "text/plain": [
       "{'verbose': 1, 'epochs': 50, 'steps': 452}"
      ]
     },
     "execution_count": 24,
     "metadata": {},
     "output_type": "execute_result"
    }
   ],
   "source": [
    "history.params"
   ]
  },
  {
   "cell_type": "code",
   "execution_count": 25,
   "metadata": {},
   "outputs": [
    {
     "data": {
      "text/plain": [
       "dict_keys(['loss', 'accuracy', 'val_loss', 'val_accuracy'])"
      ]
     },
     "execution_count": 25,
     "metadata": {},
     "output_type": "execute_result"
    }
   ],
   "source": [
    "history.history.keys()"
   ]
  },
  {
   "cell_type": "code",
   "execution_count": 26,
   "metadata": {},
   "outputs": [
    {
     "data": {
      "text/plain": [
       "list"
      ]
     },
     "execution_count": 26,
     "metadata": {},
     "output_type": "execute_result"
    }
   ],
   "source": [
    "type(history.history['loss'])"
   ]
  },
  {
   "cell_type": "code",
   "execution_count": 27,
   "metadata": {},
   "outputs": [
    {
     "data": {
      "text/plain": [
       "48"
      ]
     },
     "execution_count": 27,
     "metadata": {},
     "output_type": "execute_result"
    }
   ],
   "source": [
    "len(history.history['loss'])"
   ]
  },
  {
   "cell_type": "code",
   "execution_count": 28,
   "metadata": {},
   "outputs": [
    {
     "data": {
      "text/plain": [
       "[2.808025360107422,\n",
       " 0.7533153891563416,\n",
       " 0.624162495136261,\n",
       " 0.5262341499328613,\n",
       " 0.46855148673057556]"
      ]
     },
     "execution_count": 28,
     "metadata": {},
     "output_type": "execute_result"
    }
   ],
   "source": [
    "history.history['loss'][:5] # show loss for first 5 epochs"
   ]
  },
  {
   "cell_type": "code",
   "execution_count": 29,
   "metadata": {},
   "outputs": [],
   "source": [
    "acc = history.history['accuracy']\n",
    "val_acc = history.history['val_accuracy']\n",
    "\n",
    "loss = history.history['loss']\n",
    "val_loss = history.history['val_loss']"
   ]
  },
  {
   "cell_type": "code",
   "execution_count": 35,
   "metadata": {},
   "outputs": [],
   "source": [
    "epochs = 48"
   ]
  },
  {
   "cell_type": "code",
   "execution_count": 36,
   "metadata": {},
   "outputs": [
    {
     "data": {
      "image/png": "[encoded data removed]",
      "text/plain": [
       "<Figure size 800x800 with 2 Axes>"
      ]
     },
     "metadata": {},
     "output_type": "display_data"
    }
   ],
   "source": [
    "plt.figure(figsize=(8, 8))\n",
    "plt.subplot(1, 2, 1)\n",
    "plt.plot(range(epochs), acc, label='Training Accuracy')\n",
    "plt.plot(range(epochs), val_acc, label='Validation Accuracy')\n",
    "plt.legend(loc='lower right')\n",
    "plt.title('Training and Validation Accuracy')\n",
    "\n",
    "plt.subplot(1, 2, 2)\n",
    "plt.plot(range(epochs), loss, label='Training Loss')\n",
    "plt.plot(range(epochs), val_loss, label='Validation Loss')\n",
    "plt.legend(loc='upper right')\n",
    "plt.title('Training and Validation Loss')\n",
    "plt.show()"
   ]
  },
  {
   "cell_type": "code",
   "execution_count": 39,
   "metadata": {},
   "outputs": [
    {
     "ename": "NameError",
     "evalue": "name 'validation_data' is not defined",
     "output_type": "error",
     "traceback": [
      "\u001b[1;31m---------------------------------------------------------------------------\u001b[0m",
      "\u001b[1;31mNameError\u001b[0m                                 Traceback (most recent call last)",
      "Cell \u001b[1;32mIn[39], line 2\u001b[0m\n\u001b[0;32m      1\u001b[0m \u001b[38;5;28;01mimport\u001b[39;00m \u001b[38;5;21;01mnumpy\u001b[39;00m \u001b[38;5;28;01mas\u001b[39;00m \u001b[38;5;21;01mnp\u001b[39;00m\n\u001b[1;32m----> 2\u001b[0m \u001b[38;5;28;01mfor\u001b[39;00m images_batch, labels_batch \u001b[38;5;129;01min\u001b[39;00m \u001b[43mvalidation_data\u001b[49m\u001b[38;5;241m.\u001b[39mtake(\u001b[38;5;241m1\u001b[39m):\n\u001b[0;32m      4\u001b[0m     first_image \u001b[38;5;241m=\u001b[39m images_batch[\u001b[38;5;241m0\u001b[39m]\u001b[38;5;241m.\u001b[39mnumpy()\u001b[38;5;241m.\u001b[39mastype(\u001b[38;5;124m'\u001b[39m\u001b[38;5;124muint8\u001b[39m\u001b[38;5;124m'\u001b[39m)\n\u001b[0;32m      5\u001b[0m     first_label \u001b[38;5;241m=\u001b[39m labels_batch[\u001b[38;5;241m0\u001b[39m]\u001b[38;5;241m.\u001b[39mnumpy()\n",
      "\u001b[1;31mNameError\u001b[0m: name 'validation_data' is not defined"
     ]
    }
   ],
   "source": [
    "import numpy as np\n",
    "for images_batch, labels_batch in validation_data.take(1):\n",
    "    \n",
    "    first_image = images_batch[0].numpy().astype('uint8')\n",
    "    first_label = labels_batch[0].numpy()\n",
    "    \n",
    "    print(\"first image to predict\")\n",
    "    plt.imshow(first_image)\n",
    "    print(\"actual label:\",class_names[first_label])\n",
    "    \n",
    "    batch_prediction = model.predict(images_batch)\n",
    "    print(\"predicted label:\",class_names[np.argmax(batch_prediction[0])])"
   ]
  },
  {
   "cell_type": "code",
   "execution_count": null,
   "metadata": {},
   "outputs": [],
   "source": [
    "def predict(model, img):\n",
    "    img_array = tf.keras.preprocessing.image.img_to_array(images[i].numpy())\n",
    "    img_array = tf.expand_dims(img_array, 0)\n",
    "\n",
    "    predictions = model.predict(img_array)\n",
    "\n",
    "    predicted_class = class_names[np.argmax(predictions[0])]\n",
    "    confidence = round(100 * (np.max(predictions[0])), 2)\n",
    "    return predicted_class, confidence"
   ]
  },
  {
   "cell_type": "code",
   "execution_count": null,
   "metadata": {},
   "outputs": [],
   "source": [
    "plt.figure(figsize=(15, 15))\n",
    "for images, labels in test_ds.take(1):\n",
    "    for i in range(10):\n",
    "        ax = plt.subplot(5, 2, i + 1)\n",
    "        plt.imshow(images[i].numpy().astype(\"uint8\"))\n",
    "        \n",
    "        predicted_class, confidence = predict(model, images[i].numpy())\n",
    "        actual_class = class_names[labels[i]] \n",
    "        \n",
    "        plt.title(f\"Actual: {actual_class},\\n Predicted: {predicted_class}.\\n Confidence: {confidence}%\")\n",
    "        \n",
    "        plt.axis(\"off\")"
   ]
  }
 ],
 "metadata": {
  "kernelspec": {
   "display_name": "Python 3 (ipykernel)",
   "language": "python",
   "name": "python3"
  },
  "language_info": {
   "codemirror_mode": {
    "name": "ipython",
    "version": 3
   },
   "file_extension": ".py",
   "mimetype": "text/x-python",
   "name": "python",
   "nbconvert_exporter": "python",
   "pygments_lexer": "ipython3",
   "version": "3.9.18"
  }
 },
 "nbformat": 4,
 "nbformat_minor": 4
}
